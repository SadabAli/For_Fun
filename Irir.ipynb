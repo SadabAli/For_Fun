{
 "cells": [
  {
   "cell_type": "code",
   "execution_count": 8,
   "id": "89b85e68",
   "metadata": {},
   "outputs": [],
   "source": [
    "import pandas as pd \n",
    "import numpy as np \n",
    "\n",
    "from sklearn.datasets import load_iris \n",
    "from sklearn.linear_model import LogisticRegression \n",
    "from sklearn.model_selection import train_test_split \n",
    "from sklearn.metrics import accuracy_score \n",
    "\n",
    "\n",
    "import mlflow \n",
    "from mlflow.models import infer_signature"
   ]
  },
  {
   "cell_type": "code",
   "execution_count": 7,
   "id": "3d58359b",
   "metadata": {},
   "outputs": [
    {
     "name": "stdout",
     "output_type": "stream",
     "text": [
      "1.0\n"
     ]
    },
    {
     "name": "stderr",
     "output_type": "stream",
     "text": [
      "c:\\Users\\alisa\\OneDrive\\Desktop\\MLOps_Project\\.venv\\lib\\site-packages\\sklearn\\linear_model\\_logistic.py:1247: FutureWarning: 'multi_class' was deprecated in version 1.5 and will be removed in 1.7. From then on, it will always use 'multinomial'. Leave it to its default value to avoid this warning.\n",
      "  warnings.warn(\n"
     ]
    }
   ],
   "source": [
    "X,y = load_iris(return_X_y=True)\n",
    "\n",
    "X_trian , X_test , y_train , y_test = train_test_split(X,y,test_size=0.2,random_state=42) \n",
    "\n",
    "params = {\n",
    "    \"penalty\":\"l2\",\n",
    "    \"solver\": \"lbfgs\",\n",
    "    \"max_iter\": 1000,\n",
    "    \"multi_class\": \"auto\",\n",
    "    \"random_state\": 8888,\n",
    "}\n",
    "\n",
    "lr = LogisticRegression(**params) # keyword\n",
    "\n",
    "lr.fit(X_trian,y_train)\n",
    "y_pred  = lr.predict(X_test)\n",
    "acc = accuracy_score(y_test,y_pred)\n",
    "print(acc)"
   ]
  },
  {
   "cell_type": "markdown",
   "id": "4e4e4547",
   "metadata": {},
   "source": [
    "## Log the models and it's Metadeta"
   ]
  },
  {
   "cell_type": "code",
   "execution_count": 9,
   "id": "0675131a",
   "metadata": {},
   "outputs": [
    {
     "name": "stderr",
     "output_type": "stream",
     "text": [
      "2025/05/24 20:52:03 INFO mlflow.tracking.fluent: Experiment with name 'Quick Start' does not exist. Creating a new experiment.\n"
     ]
    },
    {
     "name": "stdout",
     "output_type": "stream",
     "text": [
      "🏃 View run enchanting-pug-522 at: http://127.0.0.1:5000/#/experiments/988528598315809615/runs/f88d8f9c82d74d80905fc71bb1afc20c\n",
      "🧪 View experiment at: http://127.0.0.1:5000/#/experiments/988528598315809615\n"
     ]
    },
    {
     "ename": "TypeError",
     "evalue": "load_model() got an unexpected keyword argument 'sk_model'",
     "output_type": "error",
     "traceback": [
      "\u001b[1;31m---------------------------------------------------------------------------\u001b[0m",
      "\u001b[1;31mTypeError\u001b[0m                                 Traceback (most recent call last)",
      "Cell \u001b[1;32mIn[9], line 21\u001b[0m\n\u001b[0;32m     18\u001b[0m signature \u001b[38;5;241m=\u001b[39m infer_signature(X_trian,lr\u001b[38;5;241m.\u001b[39mpredict(X_trian))\n\u001b[0;32m     20\u001b[0m \u001b[38;5;66;03m# log the model \u001b[39;00m\n\u001b[1;32m---> 21\u001b[0m model_info \u001b[38;5;241m=\u001b[39m \u001b[43mmlflow\u001b[49m\u001b[38;5;241;43m.\u001b[39;49m\u001b[43msklearn\u001b[49m\u001b[38;5;241;43m.\u001b[39;49m\u001b[43mload_model\u001b[49m\u001b[43m(\u001b[49m\n\u001b[0;32m     22\u001b[0m \u001b[43m    \u001b[49m\u001b[43msk_model\u001b[49m\u001b[43m \u001b[49m\u001b[38;5;241;43m=\u001b[39;49m\u001b[43mlr\u001b[49m\u001b[43m,\u001b[49m\n\u001b[0;32m     23\u001b[0m \u001b[43m    \u001b[49m\u001b[43martifact_path\u001b[49m\u001b[43m \u001b[49m\u001b[38;5;241;43m=\u001b[39;49m\u001b[43m \u001b[49m\u001b[38;5;124;43m'\u001b[39;49m\u001b[38;5;124;43miris_model\u001b[39;49m\u001b[38;5;124;43m'\u001b[39;49m\u001b[43m,\u001b[49m\n\u001b[0;32m     24\u001b[0m \u001b[43m    \u001b[49m\u001b[43msignature\u001b[49m\u001b[38;5;241;43m=\u001b[39;49m\u001b[43msignature\u001b[49m\u001b[43m,\u001b[49m\n\u001b[0;32m     25\u001b[0m \u001b[43m    \u001b[49m\u001b[43minput_example\u001b[49m\u001b[43m \u001b[49m\u001b[38;5;241;43m=\u001b[39;49m\u001b[43m \u001b[49m\u001b[43mX_trian\u001b[49m\u001b[43m,\u001b[49m\n\u001b[0;32m     26\u001b[0m \u001b[43m    \u001b[49m\u001b[43mregistered_model_name\u001b[49m\u001b[43m \u001b[49m\u001b[38;5;241;43m=\u001b[39;49m\u001b[43m \u001b[49m\u001b[38;5;124;43m'\u001b[39;49m\u001b[38;5;124;43mtracking quickStart\u001b[39;49m\u001b[38;5;124;43m'\u001b[39;49m\n\u001b[0;32m     27\u001b[0m \u001b[43m\u001b[49m\u001b[43m)\u001b[49m\n",
      "\u001b[1;31mTypeError\u001b[0m: load_model() got an unexpected keyword argument 'sk_model'"
     ]
    }
   ],
   "source": [
    "# MLflow Tracking \n",
    "\n",
    "mlflow.set_tracking_uri(uri='http://127.0.0.1:5000') \n",
    "\n",
    "# MLflow Experiment \n",
    "\n",
    "mlflow.set_experiment(\"Quick Start\")\n",
    "\n",
    "# Start an MLflow run \n",
    "with mlflow.start_run():\n",
    "    # log param\n",
    "    mlflow.log_params(params)\n",
    "    # log metrix \n",
    "    mlflow.log_metric('accuracy',acc)\n",
    "    # Set a tag that reminds what this run is \n",
    "    mlflow.set_tag(\"1st Training\" , \"Basic LogisticRegression for IRIS daraset\")\n",
    "    ## infer the model signature \n",
    "    signature = infer_signature(X_trian,lr.predict(X_trian))\n",
    "\n",
    "    # log the model \n",
    "    model_info = mlflow.sklearn.load_model(\n",
    "        sk_model =lr,\n",
    "        artifact_path = 'iris_model',\n",
    "        signature=signature,\n",
    "        input_example = X_trian,\n",
    "        registered_model_name = 'tracking quickStart'\n",
    "    )"
   ]
  },
  {
   "cell_type": "code",
   "execution_count": null,
   "id": "a9626a8a",
   "metadata": {},
   "outputs": [],
   "source": []
  }
 ],
 "metadata": {
  "kernelspec": {
   "display_name": ".venv",
   "language": "python",
   "name": "python3"
  },
  "language_info": {
   "codemirror_mode": {
    "name": "ipython",
    "version": 3
   },
   "file_extension": ".py",
   "mimetype": "text/x-python",
   "name": "python",
   "nbconvert_exporter": "python",
   "pygments_lexer": "ipython3",
   "version": "3.10.11"
  }
 },
 "nbformat": 4,
 "nbformat_minor": 5
}
